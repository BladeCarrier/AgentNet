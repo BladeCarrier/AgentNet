{
 "cells": [
  {
   "cell_type": "code",
   "execution_count": 1,
   "metadata": {
    "collapsed": false
   },
   "outputs": [
    {
     "name": "stderr",
     "output_type": "stream",
     "text": [
      "/usr/local/lib/python2.7/dist-packages/matplotlib/font_manager.py:273: UserWarning: Matplotlib is building the font cache using fc-list. This may take a moment.\n",
      "  warnings.warn('Matplotlib is building the font cache using fc-list. This may take a moment.')\n"
     ]
    },
    {
     "name": "stdout",
     "output_type": "stream",
     "text": [
      "env: THEANO_FLAGS='device=cpu'\n",
      "Couldn't import dot_parser, loading of dot files will not be possible.\n"
     ]
    }
   ],
   "source": [
    "%matplotlib inline\n",
    "import numpy as np\n",
    "from matplotlib import pyplot as plt\n",
    "\n",
    "\n",
    "#theano imports. Setting up to use CPU\n",
    "%env THEANO_FLAGS='device=cpu'\n",
    "import theano\n",
    "import lasagne"
   ]
  },
  {
   "cell_type": "markdown",
   "metadata": {},
   "source": [
    "# This tutorial explains the basic pipeline of Agentnet experiment\n",
    "* experiment setup\n",
    "* designing agent\n",
    "* interacting with environment\n",
    "* computing losses\n",
    "* training"
   ]
  },
  {
   "cell_type": "markdown",
   "metadata": {},
   "source": [
    "### A friendly note\n",
    "This example does not use external environments. If you want to dive into openai gym, you may as well [start here](http://bit.ly/29EvHvZ)"
   ]
  },
  {
   "cell_type": "markdown",
   "metadata": {},
   "source": [
    "# Experiment setup\n",
    "\n",
    "Load a simple experiment environment and print its description"
   ]
  },
  {
   "cell_type": "code",
   "execution_count": 2,
   "metadata": {
    "collapsed": false
   },
   "outputs": [
    {
     "name": "stdout",
     "output_type": "stream",
     "text": [
      "\n",
      "Boolean reasoning is a dummy experiment setup that requires agent to make advantage of\n",
      "a simple logical formula in order to maximize expected reward.\n",
      "\n",
      "The world agent exists in has a number of boolean hidden factors:\n",
      "X1, X2, X3, Y1, Y2.\n",
      "\n",
      "The factors are not independent. Namely,\n",
      " - Y1 is true if X1\n",
      " - Y2 is true if not X1\n",
      "\n",
      "In the initial moment of time, agent knows nothing about any of them.\n",
      "At each turn, agent may decide to\n",
      " - \"open\" one of the hidden factors.\n",
      "   - if the factor turns out to be 1, agent receives +1 reward for X*, +3 for Y*\n",
      "   - Otherwise, the reward equals -1 for X*, -3 for Y*\n",
      "   - checking a single factor more than once a session will result in -0.5 reward for every attempt but for first one\n",
      " - decide to quit session\n",
      "   - yields reward of 0 and ends the interaction.\n",
      "   - all farther actions will have no effect until next session\n",
      "\n",
      "It is expected, that in order to maximize it's expected reward, the agent\n",
      "will learn the policy\n",
      "1. Check X1\n",
      "2. If X1, check Y1, else Y2\n",
      "\n",
      "The experiment setup contains a single class BooleanReasoningEnvironment that\n",
      "implements both BaseEnvironment and BaseObjective.\n",
      "\n"
     ]
    }
   ],
   "source": [
    "import agentnet.experiments.boolean_reasoning as experiment\n",
    "# instantiate an experiment environment with default parameters\n",
    "env = experiment.BooleanReasoningEnvironment()\n",
    "\n",
    "print(experiment.__doc__)"
   ]
  },
  {
   "cell_type": "markdown",
   "metadata": {},
   "source": [
    "# Agent setup\n",
    "* An agent implementation has to contain three parts:\n",
    "  * Memory layer(s)\n",
    "    * in this case, a single one-step RNN\n",
    "  * Q-values evaluation layers\n",
    "    * in this case, a lasagne dense layer based on memory layer\n",
    "  * Resolver - an action picker layer\n",
    "    * in this case, the resolver has epsilon-greedy policy"
   ]
  },
  {
   "cell_type": "code",
   "execution_count": 3,
   "metadata": {
    "collapsed": false
   },
   "outputs": [],
   "source": [
    "from agentnet.resolver import EpsilonGreedyResolver\n",
    "from agentnet.memory.rnn import RNNCell\n",
    "from agentnet.agent import Agent"
   ]
  },
  {
   "cell_type": "code",
   "execution_count": 4,
   "metadata": {
    "collapsed": false
   },
   "outputs": [],
   "source": [
    "# hidden neurons\n",
    "n_hidden_neurons = 64\n",
    "\n",
    "observation_size = (None,) + tuple(env.observation_shapes)\n",
    "\n",
    "observation_layer = lasagne.layers.InputLayer(observation_size, name=\"observation_input\")\n",
    "prev_state_layer = lasagne.layers.InputLayer([None, n_hidden_neurons], name=\"prev_state_input\")\n",
    "\n",
    "# memory layer (this isn't the same as lasagne recurrent units)\n",
    "rnn = RNNCell(prev_state_layer, observation_layer, name=\"rnn0\")\n",
    "\n",
    "# q_values (estimated using very simple neural network)\n",
    "q_values = lasagne.layers.DenseLayer(rnn,\n",
    "                                     num_units=env.n_actions,\n",
    "                                     nonlinearity=lasagne.nonlinearities.linear,\n",
    "                                     name=\"QEvaluator\")\n",
    "\n",
    "# resolver uses epsilon - parameter which defines a probability of randomly taken action.\n",
    "epsilon = theano.shared(np.float32(0.1), name=\"e-greedy.epsilon\")\n",
    "resolver = EpsilonGreedyResolver(q_values, epsilon=epsilon, name=\"resolver\")\n",
    "\n",
    "\n",
    "# packing this into agent\n",
    "agent = Agent(observation_layer,\n",
    "              agent_states={rnn:prev_state_layer},\n",
    "              policy_estimators=q_values, \n",
    "              action_layers=resolver)"
   ]
  },
  {
   "cell_type": "code",
   "execution_count": 5,
   "metadata": {
    "collapsed": false
   },
   "outputs": [
    {
     "data": {
      "text/plain": [
       "[rnn0.hid_to_hid.W,\n",
       " rnn0.hid_to_hid.b,\n",
       " rnn0.input0_to_hid.W,\n",
       " QEvaluator.W,\n",
       " QEvaluator.b]"
      ]
     },
     "execution_count": 5,
     "metadata": {},
     "output_type": "execute_result"
    }
   ],
   "source": [
    "# Since it's a lasagne network, one can get it's weights, output, etc\n",
    "weights = lasagne.layers.get_all_params(resolver,trainable=True)\n",
    "weights"
   ]
  },
  {
   "cell_type": "markdown",
   "metadata": {},
   "source": [
    "## Agent setup in detail\n",
    "* __Memory layers__\n",
    " * One-step recurrent layer\n",
    "     * takes input and one's previous state\n",
    "     * returns new memory state\n",
    "   * Can be arbitrary lasagne layer\n",
    "   * Several one-step recurrent units are implemented in __agentnet.memory__\n",
    "   * Note that lasagne's default recurrent networks roll for several steps at once\n",
    "     * in other words, __using lasagne recurrent units as memory means recurrence inside recurrence__\n",
    " * Using more than one memory layer is explained in farther tutorials\n",
    "\n",
    "\n",
    "* __Q-values evaluation layer__\n",
    " * Can be arbitrary lasagne network\n",
    " * returns predicted Q-values for each action\n",
    " * Usually depends on memory as an input\n",
    "\n",
    "\n",
    "* __Resolver__ - action picker\n",
    " * Decides on what action is taken\n",
    " * Normally takes Q-values as input\n",
    " * Currently all experiments require integer output\n",
    " * Several resolver layers are implemented in __agentnet.resolver__"
   ]
  },
  {
   "cell_type": "markdown",
   "metadata": {},
   "source": [
    "## Interacting with environment\n",
    "* an agent has a method that produces __symbolic__ environment interaction sessions\n",
    "* such sessions are represented as tensors with dimensions matching pattern [batch_session_i, time_tick, ...]\n",
    "* interactions result in sequences of observations, actions, q-values,etc\n",
    "* one has to pre-define maximum session length.\n",
    "  * environment implements an indicator of whether session has ended by current tick\n",
    "* since this environment also implements Objective methods, it can evaluate rewards for each [batch, time_tick]\n"
   ]
  },
  {
   "cell_type": "code",
   "execution_count": 6,
   "metadata": {
    "collapsed": false
   },
   "outputs": [],
   "source": [
    "# produce interaction sequences of length <= 10\n",
    "(state_seq,), observation_seq, agent_state, action_seq, qvalues_seq = agent.get_sessions(\n",
    "    env,\n",
    "    session_length=10,\n",
    "    batch_size=env.batch_size,\n",
    ")\n",
    "\n",
    "hidden_seq = agent_state[rnn]\n",
    "\n",
    "# get rewards for all actions\n",
    "rewards_seq = env.get_reward_sequences(state_seq, action_seq)\n",
    "\n",
    "# get indicator whether session is still active\n",
    "is_alive_seq = env.get_whether_alive(observation_seq)"
   ]
  },
  {
   "cell_type": "markdown",
   "metadata": {},
   "source": [
    "## Defining loss function\n",
    "\n",
    "Loss consists of two terms\n",
    "- training error on played games\n",
    "    - in our case, this loss is provided by Q-learning\n",
    "- regularization"
   ]
  },
  {
   "cell_type": "code",
   "execution_count": 7,
   "metadata": {
    "collapsed": false
   },
   "outputs": [],
   "source": [
    "# get reference Qvalues according to Qlearning algorithm\n",
    "from agentnet.learning import qlearning\n",
    "\n",
    "# gamma - delayed reward coefficient - what fraction of reward is retained if it is obtained one tick later\n",
    "gamma = theano.shared(np.float32(1), name='q_learning_gamma')\n",
    "\n",
    "squarred_Qerror = qlearning.get_elementwise_objective(\n",
    "    qvalues_seq,\n",
    "    action_seq,\n",
    "    rewards_seq,\n",
    "    is_alive_seq,\n",
    "    gamma_or_gammas=gamma)\n",
    "\n",
    "# take sum over steps, average over sessions\n",
    "mse_Qloss = squarred_Qerror.sum(axis=1).mean()"
   ]
  },
  {
   "cell_type": "code",
   "execution_count": 8,
   "metadata": {
    "collapsed": false
   },
   "outputs": [],
   "source": [
    "# impose l2 regularization on network weights\n",
    "from lasagne.regularization import regularize_network_params, l2\n",
    "reg_l2 = regularize_network_params(resolver, l2) * 10**-3\n",
    "\n",
    "loss = mse_Qloss + reg_l2"
   ]
  },
  {
   "cell_type": "markdown",
   "metadata": {},
   "source": [
    "## Compile train and evaluation functions"
   ]
  },
  {
   "cell_type": "code",
   "execution_count": 9,
   "metadata": {
    "collapsed": false
   },
   "outputs": [],
   "source": [
    "# compute weight updates\n",
    "updates = lasagne.updates.adadelta(loss, weights, learning_rate=0.1)\n",
    "# take sum over steps, average over sessions\n",
    "mean_session_reward = rewards_seq.sum(axis=1).mean()\n",
    "\n",
    "train_fun = theano.function([], [loss, mean_session_reward], updates=updates)\n",
    "\n",
    "compute_mean_session_reward = theano.function([], mean_session_reward)"
   ]
  },
  {
   "cell_type": "markdown",
   "metadata": {},
   "source": [
    "## Training loop"
   ]
  },
  {
   "cell_type": "code",
   "execution_count": 10,
   "metadata": {
    "collapsed": false
   },
   "outputs": [],
   "source": [
    "from agentnet.display import Metrics\n",
    "score_log = Metrics()"
   ]
  },
  {
   "cell_type": "code",
   "execution_count": 11,
   "metadata": {
    "collapsed": false,
    "scrolled": false
   },
   "outputs": [
    {
     "name": "stdout",
     "output_type": "stream",
     "text": [
      "0 100 200 300 400 500 600 700 800 900 1000 1100 1200 1300 1400 1500 1600 1700 1800 1900 2000 2100 2200 2300 2400 2500 2600 2700 2800 2900 3000 3100 3200 3300 3400 3500 3600 3700 3800 3900 4000 4100 4200 4300 4400 4500 4600 4700 4800 4900\n"
     ]
    }
   ],
   "source": [
    "batch_size = 10\n",
    "\n",
    "for epoch in range(5000):        \n",
    "    \n",
    "    # update resolver's epsilon (chance of random action instead of optimal one)\n",
    "    # epsilon decreases over time\n",
    "    current_epsilon = 0.05 + 0.95 * np.exp(-epoch / 2500.)\n",
    "    resolver.epsilon.set_value(np.float32(current_epsilon))\n",
    "    \n",
    "    # train\n",
    "    env.generate_new_data_batch(batch_size)\n",
    "    loss, avg_reward = train_fun()\n",
    "        \n",
    "    # show current learning progress\n",
    "    if epoch % 100 == 0:\n",
    "        print epoch,\n",
    "        \n",
    "        # estimate reward for epsilon-greedy strategy\n",
    "        avg_reward_current = compute_mean_session_reward()\n",
    "        score_log[\"expected epsilon-greedy reward\"][epoch] = avg_reward_current\n",
    "        \n",
    "        # estimating the reward under assumption of greedy strategy\n",
    "        resolver.epsilon.set_value(0)\n",
    "        avg_reward_greedy = compute_mean_session_reward()\n",
    "        score_log[\"expected greedy reward\"][epoch] = avg_reward_greedy"
   ]
  },
  {
   "cell_type": "markdown",
   "metadata": {},
   "source": [
    "## Evaluate results"
   ]
  },
  {
   "cell_type": "code",
   "execution_count": 12,
   "metadata": {
    "collapsed": false
   },
   "outputs": [
    {
     "data": {
      "image/png": "[encoded data removed]",
      "text/plain": [
       "<matplotlib.figure.Figure at 0x113a7a450>"
      ]
     },
     "metadata": {},
     "output_type": "display_data"
    }
   ],
   "source": [
    "score_log.plot(\"final\")"
   ]
  },
  {
   "cell_type": "markdown",
   "metadata": {},
   "source": [
    "## Conclusion\n",
    "\n",
    "We've trained out first agent which plays a fairly trivial game and learned a bit about basic agent structure. \n",
    "\n",
    "To dive deeper into AgentNet, please follow other tutorials."
   ]
  }
 ],
 "metadata": {
  "kernelspec": {
   "display_name": "Python 2",
   "language": "python",
   "name": "python2"
  },
  "language_info": {
   "codemirror_mode": {
    "name": "ipython",
    "version": 2
   },
   "file_extension": ".py",
   "mimetype": "text/x-python",
   "name": "python",
   "nbconvert_exporter": "python",
   "pygments_lexer": "ipython2",
   "version": "2.7.6"
  }
 },
 "nbformat": 4,
 "nbformat_minor": 0
}
