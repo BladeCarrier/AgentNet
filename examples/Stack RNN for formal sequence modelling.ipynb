{
 "cells": [
  {
   "cell_type": "code",
   "execution_count": 1,
   "metadata": {
    "collapsed": false
   },
   "outputs": [],
   "source": [
    "import numpy as np\n",
    "from matplotlib import pyplot as plt\n",
    "%matplotlib inline\n",
    "\n",
    "\n",
    "#theano imports\n",
    "import lasagne\n",
    "import theano\n",
    "import theano.tensor as T\n",
    "import sys\n",
    "sys.setrecursionlimit(100000)\n",
    "floatX = theano.config.floatX\n",
    "\n"
   ]
  },
  {
   "cell_type": "markdown",
   "metadata": {},
   "source": [
    "# Stack-augmented RNN\n",
    "![caption](https://usercontent1.hubstatic.com/6172838_f260.jpg)\n",
    "\n"
   ]
  },
  {
   "cell_type": "markdown",
   "metadata": {},
   "source": [
    "This notebook reproduces experiment from article http://arxiv.org/abs/1503.01007"
   ]
  },
  {
   "cell_type": "markdown",
   "metadata": {},
   "source": [
    "## Task and architecture\n",
    "\n",
    "__The task__ is to train an RNN to generate sequences from expression `|`$ a^n b^m c^{n+m} $\n",
    " * n and m are integers\n",
    " * Performance metrics:\n",
    "  * Correct format - `|`, some a, some b, some c\n",
    "     * ||aaacbbcba would be an example of incorrect one\n",
    "  * Number of C letters to be as close to sum of A band B letters as possible\n",
    "     * Ideally, #c = #a + #b\n",
    "     \n",
    "\n",
    "Model we use:\n",
    " * Stack-augmented RNN\n",
    " \n",
    "Trained as a language model (predicting next symbols given preceding history)"
   ]
  },
  {
   "cell_type": "markdown",
   "metadata": {},
   "source": [
    "### Sequence generator"
   ]
  },
  {
   "cell_type": "code",
   "execution_count": 2,
   "metadata": {
    "collapsed": false
   },
   "outputs": [],
   "source": [
    "def generate_sequence(batch_size = 10,crop_length = 100 ):\n",
    "    \"\"\"\n",
    "    Generates sequence from pattern [0  1*n 2*m 3*(n+m)]\n",
    "    \"\"\"\n",
    "    sequences=[]\n",
    "    for i in range(batch_size):\n",
    "        seq = [0]\n",
    "        while len(seq) < crop_length:\n",
    "            n,m = np.random.randint(1,10,2)\n",
    "        \n",
    "            seq += [0]+ [1]*n+[2]*m+[3]*(n+m)\n",
    "        seq = seq[:crop_length]\n",
    "        sequences.append(seq)\n",
    "    return np.array(sequences,dtype='int32')\n",
    "\n",
    "alphabet = np.array(list('|abc'))"
   ]
  },
  {
   "cell_type": "code",
   "execution_count": 3,
   "metadata": {
    "collapsed": true
   },
   "outputs": [],
   "source": [
    "#quality evaluation\n",
    "from operator import add\n",
    "import re\n",
    "def get_metrics(gen_sequences,alphabet):    \n",
    "    strings = map(lambda v:reduce(add,v), map(alphabet.__getitem__,gen_sequences))\n",
    "    \n",
    "    #at least one complete string\n",
    "    strings = filter(lambda v: '|' in v,strings)\n",
    "    \n",
    "    #cut off last unfinished string, if any\n",
    "    \n",
    "    strings = map(lambda v: v[:-1-v[::-1].index('|')],strings)\n",
    "    \n",
    "    all_strings = '|'.join(strings)\n",
    "    \n",
    "    \n",
    "    \n",
    "    seqs = filter(len,all_strings.split('|'))\n",
    "    \n",
    "    matches = map(lambda seq:re.match(r\"^a+b+c+\",seq),seqs)\n",
    "    \n",
    "    is_correct = map( lambda seq,m: m is not None and m.pos==0 and m.endpos == len(seq), \n",
    "                        seqs, matches)\n",
    "    \n",
    "    \n",
    "    \n",
    "    \n",
    "    correct_seqs = np.array(seqs)[np.array(is_correct,dtype='bool')]\n",
    "    \n",
    "    seqs_error = map(lambda s: s.count('a')+ s.count('b') - s.count('c'),correct_seqs)\n",
    "    \n",
    "    return np.mean(is_correct), np.mean(np.abs(seqs_error))\n"
   ]
  },
  {
   "cell_type": "markdown",
   "metadata": {},
   "source": [
    "### samples"
   ]
  },
  {
   "cell_type": "code",
   "execution_count": 4,
   "metadata": {
    "collapsed": false
   },
   "outputs": [
    {
     "name": "stdout",
     "output_type": "stream",
     "text": [
      "CPU times: user 0 ns, sys: 0 ns, total: 0 ns\n",
      "Wall time: 937 µs\n"
     ]
    },
    {
     "data": {
      "text/plain": [
       "['||aaaaabbbbccccccccc|aaaaaaaabbbccccccccccc|aabbcccc|aaaaaaaaabbbbbbbbccccccccccccccccc|aaaaaabbbbcc',\n",
       " '||aaaabbbbbbbccccccccccc|abbbbccccc|aaaabbbbbbbbcccccccccccc|aaaabbbbbccccccccc|aabbbbcccccc|aabbbbb',\n",
       " '||aaaaabbbbbbbbccccccccccccc|aaaabbbccccccc|aaabbbbccccccc|aaabbbbbcccccccc|aaabbbbccccccc|aaaabbbbc',\n",
       " '||aaabbbcccccc|abbbbbbccccccc|aaaaabbbbbbbcccccccccccc|aaaaaaabbbbbbbcccccccccccccc|aaabbbcccccc|aaa',\n",
       " '||aaaabccccc|aaaaaaaaabbbbbcccccccccccccc|aaaaaaaaabbbbbbbcccccccccccccccc|aaaabccccc|aaaaaaaaabbbbb']"
      ]
     },
     "execution_count": 4,
     "metadata": {},
     "output_type": "execute_result"
    }
   ],
   "source": [
    "%%time\n",
    "map(''.join,map(alphabet.__getitem__,generate_sequence(5,100)))"
   ]
  },
  {
   "cell_type": "markdown",
   "metadata": {},
   "source": [
    "# Constants"
   ]
  },
  {
   "cell_type": "code",
   "execution_count": 5,
   "metadata": {
    "collapsed": true
   },
   "outputs": [],
   "source": [
    "# length of training/generation sequence\n",
    "SEQ_LENGTH = 50\n",
    "\n",
    "# Sequences in a minibatch\n",
    "BATCH_SIZE = 100\n",
    "\n",
    "# Total epochs\n",
    "N_EPOCHS = 5000\n",
    "\n",
    "#how often to print metrics\n",
    "REPORT_RATE = 100"
   ]
  },
  {
   "cell_type": "code",
   "execution_count": 6,
   "metadata": {
    "collapsed": true
   },
   "outputs": [],
   "source": [
    "#Reference sequences for training\n",
    "sequences_batch = T.matrix(dtype=\"int32\",name=\"reference_sequences\")\n",
    "\n",
    "#Batch size (theano expression)\n",
    "batch_size = sequences_batch.shape[0]\n"
   ]
  },
  {
   "cell_type": "markdown",
   "metadata": {},
   "source": [
    "# Define RNN\n",
    "\n",
    "A \"simple\" scheme of what was there in the paper, followed exactly by the code below\n",
    "\n",
    "* Time goes from left to right\n",
    "* Layers start at the bottom and go up\n",
    "* memory states are green, memory updates are purple\n",
    "* inputs and outputs are blue traingles\n",
    "* transformations are in pale yellow\n",
    "\n",
    "![canvas](http://s32.postimg.org/vefrk7vqt/stack_gru.png)"
   ]
  },
  {
   "cell_type": "code",
   "execution_count": 7,
   "metadata": {
    "collapsed": false
   },
   "outputs": [],
   "source": [
    "import lasagne\n",
    "from lasagne.layers import DenseLayer, ConcatLayer, InputLayer, EmbeddingLayer\n",
    "\n",
    "import agentnet\n",
    "from agentnet.resolver import ProbabilisticResolver\n",
    "\n",
    "from agentnet.memory import GRUMemoryLayer, StackAugmentation\n",
    "\n",
    "\n",
    "from agentnet.agent import Recurrence\n"
   ]
  },
  {
   "cell_type": "code",
   "execution_count": 8,
   "metadata": {
    "collapsed": false
   },
   "outputs": [],
   "source": [
    "\n",
    "\n",
    "#input letter goes here\n",
    "output_shape = (None,)\n",
    "observation_layer = InputLayer(output_shape,name=\"obs_input\")\n",
    "\n",
    "\n",
    "# embedding the input layer\n",
    "n_tokens = len(alphabet)\n",
    "obs_embedding = EmbeddingLayer(observation_layer,\n",
    "                                              input_size=n_tokens,\n",
    "                                              output_size=n_tokens,\n",
    "                                              name = \"input_embedding\")\n",
    "\n",
    "\n",
    "\n",
    "\n",
    "#GRU n units\n",
    "n_hid_1 = 32\n",
    "\n",
    "#previous GRU state goes here\n",
    "prev_gru_layer = InputLayer((None,n_hid_1),name=\"prev_rnn_state\")\n",
    "\n",
    "\n",
    "# previous stack goes here\n",
    "stack_width = 3\n",
    "stack_depth = 50\n",
    "prev_stack_layer = InputLayer((None,stack_depth,stack_width))\n",
    "\n",
    "\n",
    "\n",
    "\n",
    "\n",
    "\n",
    "# Stack controls - push, pop and no-op\n",
    "stack_controls_layer = lasagne.layers.DenseLayer(prev_gru_layer,3,\n",
    "                                                nonlinearity= lasagne.nonlinearities.softmax,\n",
    "                                                name = \"stack controls\")\n",
    "\n",
    "# stack input\n",
    "stack_input_layer = lasagne.layers.DenseLayer(prev_gru_layer,stack_width,\n",
    "                                             nonlinearity = lasagne.nonlinearities.tanh,\n",
    "                                             name = \"stack input\")\n",
    "    \n",
    "    \n",
    "#new stack state  \n",
    "next_stack = StackAugmentation(stack_input_layer,\n",
    "                              prev_stack_layer,\n",
    "                              stack_controls_layer)\n",
    "\n",
    "\n",
    "#stack top (used for RNN)\n",
    "stack_top = lasagne.layers.SliceLayer(next_stack,0,1)\n",
    "\n",
    "\n",
    "\n",
    "#new GRU state\n",
    "gru = GRUMemoryLayer(n_hid_1,\n",
    "                     ConcatLayer([obs_embedding,stack_top]),\n",
    "                     prev_gru_layer)\n",
    "\n",
    "\n",
    "\n",
    "\n",
    "\n",
    "##Outputs\n",
    "\n",
    "# next letter probabilities\n",
    "\n",
    "probability_layer = lasagne.layers.DenseLayer(gru,\n",
    "                                         num_units = n_tokens,\n",
    "                                         nonlinearity=  lasagne.nonlinearities.softmax,\n",
    "                                         name=\"policy_original\")\n",
    "\n",
    "#resolver picks a particular letter in generation mode\n",
    "\n",
    "resolver = ProbabilisticResolver(probability_layer,\n",
    "                                assume_normalized=True,\n",
    "                                name=\"resolver\")\n",
    "\n",
    "\n",
    "#verify that letter shape matches\n",
    "assert tuple(lasagne.layers.get_output_shape(resolver)) == tuple(output_shape)\n",
    "\n",
    "\n",
    "#define a dictionary that maps agent's \"next memory\" output to its previous memory input\n",
    "from collections import OrderedDict\n",
    "memory_dict = OrderedDict([\n",
    "            (gru,prev_gru_layer),\n",
    "            (next_stack, prev_stack_layer),\n",
    "    ])\n"
   ]
  },
  {
   "cell_type": "markdown",
   "metadata": {},
   "source": [
    "# Training mode\n",
    "\n",
    "* Here we define an in-training version of out generator.\n",
    "* To speed up training, we will feed agent with a reference sequences.\n",
    "* So, agent pretends to generate letters, but actually is fed with the reference ones.\n"
   ]
  },
  {
   "cell_type": "code",
   "execution_count": 9,
   "metadata": {
    "collapsed": false
   },
   "outputs": [],
   "source": [
    "\n",
    "\n",
    "#define an input layer that stores sequences\n",
    "sequences_input_layer = InputLayer((None,SEQ_LENGTH),\n",
    "                                   input_var= sequences_batch,\n",
    "                                   name = \"reference sequences\"\n",
    "                                  )\n",
    "\n",
    "\n",
    "\n",
    "\n",
    "#and another one that only pretends to, while actually uses the reference letters\n",
    "# we will use it for training.\n",
    "generator_passive = Recurrence(\n",
    "    \n",
    "    #we use out previously defined dictionary to update recurrent network parameters\n",
    "    state_variables = memory_dict,\n",
    "    \n",
    "    #we feed in reference sequence into \"prev letter\" input layer, tick by tick along the axis=1.\n",
    "    input_sequences = {observation_layer:sequences_input_layer},\n",
    "    \n",
    "    #we track agent would-be actions and probabilities \n",
    "    tracked_outputs = [resolver,probability_layer],\n",
    "    \n",
    "    n_steps = SEQ_LENGTH,\n",
    "    \n",
    "    #finally, we define an optional batch size param \n",
    "    #(if omitted, it will be inferred from inputs or initial value providers if there are any)\n",
    "    batch_size = batch_size,\n",
    "    \n",
    "    unroll_scan=False,\n",
    "    \n",
    "    )\n"
   ]
  },
  {
   "cell_type": "markdown",
   "metadata": {},
   "source": [
    "# Unroll the recurrence\n",
    "\n",
    "* returns sessions of shape [batch_size, sequence_length, variable_size] for each variable\n",
    "\n",
    "* this is still happening inside a lasagne networks\n",
    "  * which allows you to, for example, create a recurrence inside another recurrence"
   ]
  },
  {
   "cell_type": "code",
   "execution_count": 10,
   "metadata": {
    "collapsed": false
   },
   "outputs": [],
   "source": [
    "#get lasagne layers for sequences\n",
    "\n",
    "#sequence of predicted probabilities\n",
    "probas_seq_layer = generator_passive[probability_layer]\n",
    "\n",
    "# gru state sequence (can extract stack likewise)\n",
    "gru_seq_layer = generator_passive[gru]\n",
    "\n",
    "\n",
    "\n",
    "# for this task we only need probabilities :)\n",
    "# probas_seq_layer\n"
   ]
  },
  {
   "cell_type": "code",
   "execution_count": 11,
   "metadata": {
    "collapsed": false
   },
   "outputs": [
    {
     "name": "stderr",
     "output_type": "stream",
     "text": [
      "/home/hedgedir/agentnet/agentnet/agent/recurrence.py:595: UserWarning: Warning: recurrent loop without unroll_scan got nonempty random state updates list. That happened because there is some source of randomness (e.g. dropout) inside recurrent step graph. To compile such graph, one must either call .get_automatic_updates() right after .get_output and pass these updates to a function, or use no_defalt_updates=True when compiling theano.function.\n",
      "  warn(\"Warning: recurrent loop without unroll_scan got nonempty random state updates list. That happened\"\n"
     ]
    }
   ],
   "source": [
    "probas_seq = lasagne.layers.get_output(probas_seq_layer)"
   ]
  },
  {
   "cell_type": "markdown",
   "metadata": {},
   "source": [
    "### The rest is a regular lasagne"
   ]
  },
  {
   "cell_type": "markdown",
   "metadata": {},
   "source": [
    "### Weights"
   ]
  },
  {
   "cell_type": "code",
   "execution_count": 12,
   "metadata": {
    "collapsed": false
   },
   "outputs": [
    {
     "data": {
      "text/plain": [
       "[input_embedding.W,\n",
       " stack input.W,\n",
       " stack input.b,\n",
       " stack controls.W,\n",
       " stack controls.b,\n",
       " YetAnotherGRUMemoryLayer.W_in_to_updategate,\n",
       " YetAnotherGRUMemoryLayer.W_hid_to_updategate,\n",
       " YetAnotherGRUMemoryLayer.b_updategate,\n",
       " YetAnotherGRUMemoryLayer.W_in_to_resetgate,\n",
       " YetAnotherGRUMemoryLayer.W_hid_to_resetgate,\n",
       " YetAnotherGRUMemoryLayer.b_resetgate,\n",
       " YetAnotherGRUMemoryLayer.W_in_to_hidden_update,\n",
       " YetAnotherGRUMemoryLayer.W_hid_to_hidden_update,\n",
       " YetAnotherGRUMemoryLayer.b_hidden_update,\n",
       " policy_original.W,\n",
       " policy_original.b]"
      ]
     },
     "execution_count": 12,
     "metadata": {},
     "output_type": "execute_result"
    }
   ],
   "source": [
    "#Obtain them\n",
    "weights = lasagne.layers.get_all_params(probas_seq_layer,\n",
    "                                        trainable=True,\n",
    "                                       )\n",
    "weights"
   ]
  },
  {
   "cell_type": "code",
   "execution_count": 13,
   "metadata": {
    "collapsed": false
   },
   "outputs": [
    {
     "name": "stdout",
     "output_type": "stream",
     "text": [
      "Total weights: 4186\n"
     ]
    }
   ],
   "source": [
    "total_weights = int(T.sum([T.prod(w.shape) for w in weights]).eval())\n",
    "print \"Total weights:\", total_weights\n"
   ]
  },
  {
   "cell_type": "markdown",
   "metadata": {},
   "source": [
    "# Loss function\n",
    "\n",
    "simple crossentropy"
   ]
  },
  {
   "cell_type": "code",
   "execution_count": 14,
   "metadata": {
    "collapsed": false
   },
   "outputs": [],
   "source": [
    "\n",
    "# take all predicitons but for last one (we don't have it's 'next')\n",
    "predicted_probas = probas_seq[:,:-1]\n",
    "\n",
    "# crop probabilities to avoid -Inf logarithms\n",
    "predicted_probas = T.maximum(predicted_probas,1e-10)\n",
    "\n",
    "# correct answers\n",
    "references = sequences_batch[:,1:]\n",
    "\n",
    "\n",
    "\n",
    "# familiar lasagne crossentropy\n",
    "model_loss = lasagne.objectives.categorical_crossentropy(\n",
    "    predicted_probas.reshape([-1,n_tokens]),\n",
    "    references.ravel()\n",
    ").mean()\n",
    "\n",
    "\n",
    "\n"
   ]
  },
  {
   "cell_type": "code",
   "execution_count": 15,
   "metadata": {
    "collapsed": true
   },
   "outputs": [],
   "source": [
    "#Regularizer for kicks\n",
    "from lasagne.regularization import regularize_network_params, l2\n",
    "reg_l2 = regularize_network_params(resolver,l2)*10**-5\n",
    "loss = model_loss + reg_l2\n"
   ]
  },
  {
   "cell_type": "code",
   "execution_count": 16,
   "metadata": {
    "collapsed": false
   },
   "outputs": [],
   "source": [
    "updates = lasagne.updates.adadelta(loss,weights,learning_rate=0.1)"
   ]
  },
  {
   "cell_type": "markdown",
   "metadata": {},
   "source": [
    "# Compile the training and evaluation steps\n",
    "\n",
    "* Since we unroll scans, the first compile may take approx. 3.5 cups of tea\n",
    "* If you want it to just compile something, consider either of the two:\n",
    " * setting unroll_scan=False in recurrence and adding generator_passive.get_automatic_updates()\n",
    " * reducing sequence length to, say, 20"
   ]
  },
  {
   "cell_type": "code",
   "execution_count": 17,
   "metadata": {
    "collapsed": false
   },
   "outputs": [],
   "source": [
    "rng_updates = generator_passive.get_automatic_updates()\n",
    "\n",
    "train_fun = theano.function([sequences_batch],[loss],updates=rng_updates + updates)\n",
    "    \n",
    "evaluation_fun = theano.function([sequences_batch],[loss,model_loss,reg_l2],updates=rng_updates)"
   ]
  },
  {
   "cell_type": "markdown",
   "metadata": {},
   "source": [
    "# Generating letters recurrently\n",
    "* In this mode, generator's i+1'st input is it's i-th output\n",
    "* the only difference in terms of code is that instead of reading letters from sequence,\n",
    "  * we feed bach the previously generated ones "
   ]
  },
  {
   "cell_type": "code",
   "execution_count": 18,
   "metadata": {
    "collapsed": false
   },
   "outputs": [],
   "source": [
    "# Recurrent state dictionary: maps state outputs to prev_state inputs\n",
    "feedback_dict = OrderedDict([\n",
    "            (gru,prev_gru_layer),\n",
    "            (next_stack, prev_stack_layer),\n",
    "            (resolver,observation_layer) #here we feed actions back as next observations\n",
    "    ])\n",
    "\n",
    "\n",
    "# generation batch size\n",
    "gen_batch_size = T.scalar('generated batch size','int32')\n",
    "\n",
    "\n",
    "\n",
    "#define a lasagne recurrence that actually generates letters\n",
    "# it will be used to generate sample sequences.\n",
    "\n",
    "generator_active = Recurrence(\n",
    "    state_variables = feedback_dict,\n",
    "    tracked_outputs = [resolver,probability_layer],\n",
    "    \n",
    "    #note that now we do need to provide batch size since generator does not have any inputs\n",
    "    batch_size = gen_batch_size,\n",
    "    n_steps = SEQ_LENGTH\n",
    "    )"
   ]
  },
  {
   "cell_type": "code",
   "execution_count": 19,
   "metadata": {
    "collapsed": false
   },
   "outputs": [],
   "source": [
    "#get sequences as before\n",
    "generated_probas_seq,generated_action_seq = lasagne.layers.get_output([generator_active[probability_layer],\n",
    "                                                                      generator_active[resolver]])\n",
    "\n"
   ]
  },
  {
   "cell_type": "code",
   "execution_count": 20,
   "metadata": {
    "collapsed": false
   },
   "outputs": [],
   "source": [
    "# ~0.5 tea cups\n",
    "get_sequences = theano.function([gen_batch_size],generated_action_seq ,updates=generator_active.get_automatic_updates())"
   ]
  },
  {
   "cell_type": "code",
   "execution_count": 21,
   "metadata": {
    "collapsed": false,
    "scrolled": true
   },
   "outputs": [
    {
     "data": {
      "text/plain": [
       "[array(['b', 'a', 'a', 'b', 'a', 'a', 'a', 'c', '|', '|', 'c', '|', 'c',\n",
       "        'c', 'a', '|', 'a', 'b', 'b', 'a', 'a', 'b', 'b', 'a', '|', 'c',\n",
       "        'a', '|', 'a', 'a', 'b', 'a', '|', 'a', 'b', 'b', 'b', 'c', 'c',\n",
       "        'a', 'c', 'b', 'a', 'b', 'b', 'a', 'a', 'c', 'a', 'c'], \n",
       "       dtype='|S1'),\n",
       " array(['b', 'a', 'a', 'a', 'c', '|', 'c', 'c', 'b', 'c', 'c', 'c', 'b',\n",
       "        'b', 'c', 'c', 'a', 'a', 'c', 'a', 'b', 'a', 'c', 'c', 'a', 'a',\n",
       "        'c', 'b', '|', '|', 'b', 'a', '|', 'c', 'c', 'b', 'a', 'c', '|',\n",
       "        '|', 'c', 'a', 'a', 'c', 'a', 'a', 'b', 'b', 'a', 'a'], \n",
       "       dtype='|S1'),\n",
       " array(['c', 'c', 'a', '|', 'a', 'b', '|', '|', 'c', 'b', '|', 'a', 'c',\n",
       "        'c', '|', 'a', 'a', 'a', 'a', 'c', 'b', 'c', '|', 'c', '|', 'c',\n",
       "        'c', '|', 'b', 'a', 'b', '|', 'c', 'a', 'a', 'b', 'c', 'a', 'b',\n",
       "        'a', 'a', 'a', 'b', 'a', 'a', 'a', 'a', 'a', 'c', 'a'], \n",
       "       dtype='|S1')]"
      ]
     },
     "execution_count": 21,
     "metadata": {},
     "output_type": "execute_result"
    }
   ],
   "source": [
    "#sample output\n",
    "map(alphabet.__getitem__,get_sequences(3))"
   ]
  },
  {
   "cell_type": "markdown",
   "metadata": {},
   "source": [
    "# Training loop:\n",
    "\n",
    "* Generating sequences\n",
    "* Training on them\n",
    "* Printing metrics every once in a while"
   ]
  },
  {
   "cell_type": "code",
   "execution_count": 22,
   "metadata": {
    "collapsed": true
   },
   "outputs": [],
   "source": [
    "from collections import defaultdict\n",
    "\n",
    "metrics = defaultdict(dict)"
   ]
  },
  {
   "cell_type": "code",
   "execution_count": 23,
   "metadata": {
    "collapsed": false,
    "scrolled": true
   },
   "outputs": [
    {
     "name": "stdout",
     "output_type": "stream",
     "text": [
      "iter:0\tfull:1.38606\tllh:1.38550\treg:0.00056\n",
      "Correct sequences ratio: 0.03651\n",
      "C-s count mean abs error: 2.77083\n",
      "a c c c b | a c a c | c c a c a a b | a b | c b c a a | | c a | a c b c a c b a a | c b b | | c b a\n",
      "c b a b | | a a b c | | b a b | a c | | a | a | b b b | | c b | | c | b c | b | c | c c b | c c c a\n",
      "| b a | b b c a a c a b | b c b c c c a b c b | a | a b a | b c a | c b b | b b c | a c b a c a c c\n",
      "iter:100\tfull:1.17679\tllh:1.17621\treg:0.00057\n",
      "Correct sequences ratio: 0.04174\n",
      "C-s count mean abs error: 2.44633\n",
      "b c a b b a c | c c c c b a b b a | b b c a a b b b a b c c c a c a c a | b a a c c c c a c c b c b\n",
      "b c | a a | a c c a c b c a c | a c a c a c | b c b c a | a c b c c | | a c c a a c a c a b b c c c\n",
      "b c | a c a b a | c a | b a c c | c | b | a a | c b c c b a b b a c c | c c c b c c b c c | c c b c\n",
      "iter:200\tfull:0.70853\tllh:0.70789\treg:0.00064\n",
      "Correct sequences ratio: 0.09359\n",
      "C-s count mean abs error: 5.29710\n",
      "b b a c a a a a b a a b c c c c c a b a b c a c c c b c c c c c c c c c c c c c c c | c c c c c c c\n",
      "a b | b b b a c c c c c a c b c c c c c c c c c c c c | a a b a c a a a b b a c c c c c c c c b c a\n",
      "c b c c c c | a a b b b c c c b c c | a c b c c c c c | | a b a b a c b c b a a b b b c b | a a b b\n",
      "iter:300\tfull:0.47940\tllh:0.47868\treg:0.00072\n",
      "Correct sequences ratio: 0.37048\n",
      "C-s count mean abs error: 3.87628\n",
      "a a a b b | b b b b c c c c c c c c c c | a a a a a a a b b b c c c c c c c c | a a a a b c b c c c\n",
      "a a a a a a a a b b b c c c | b c c c c c c c c c c | a a a a a a a b b b c c c c c c c c c c c c c\n",
      "a a b b a a b b b b b c c c c c c c c c c | a a a a b b | c b c c b b b c c c c c c c c c c c c c |\n",
      "iter:400\tfull:0.43196\tllh:0.43120\treg:0.00075\n",
      "Correct sequences ratio: 0.55009\n",
      "C-s count mean abs error: 3.44371\n",
      "a a b b b b b b b b b b b b b c c c c c c c c c a a a a a a a a a b b a c b c c c c c c | a a a b b\n",
      "b a a a | a a a a b a b b b c c c c c c c a a a a a a a b b b b c c c c c c c c c c c c c c b c c c\n",
      "c b b | a b a a b b b b b b b b c c c c c c c | a a a a a a b b b b b c c c c c c c c c c c c a a a\n",
      "iter:500\tfull:0.39694\tllh:0.39616\treg:0.00078\n",
      "Correct sequences ratio: 0.61560\n",
      "C-s count mean abs error: 2.98710\n",
      "a a a a a b b b b b b b b b b b b c c c c c c c c c c c c | a a b b c c c c c c c c c c c c | a a a\n",
      "c | | a a a a a a a a b b b c c c c | b a b b b b b b c c c c c c c c c c c c c | a a b b b b b b b\n",
      "a a a a b b b c c c c c c c c | a a a a b b b b b c c c c c c c c c | | a a a a a b b b b b b b b b\n",
      "iter:600\tfull:0.39211\tllh:0.39131\treg:0.00081\n",
      "Correct sequences ratio: 0.67982\n",
      "C-s count mean abs error: 2.44467\n",
      "a a a b b c c c c c c | a a a a b | a a a b b b c c c c c c c c c c c | a | a a a a a a a b b b c c\n",
      "a a b b b b c c c c c c c c | a | a a a a a a a b b b c c c c c c | a a a a b a b b c c c c c c c c\n",
      "a b b b c c c | b a a a a b b b b b b b b b b b b b b c c c c c c c c c c c c c | a a a a a b b b b\n",
      "iter:700\tfull:0.36507\tllh:0.36425\treg:0.00083\n",
      "Correct sequences ratio: 0.72361\n",
      "C-s count mean abs error: 2.25464\n",
      "a a a a a a b c c c c c c | | a a a a a b b b b c b c c c c c c c c c | | a a a a a a a b b b b b c\n",
      "| b a a b b b b b b c c c c c c c c c c | a a a b b b c c c c c | a a a a a a a b c c c c c c c c c\n",
      "a a a a a b b b b b b c c c c c c c c c | | a a a a b b c b c c c c c c c | a a a a a b b b b b b b\n",
      "iter:800\tfull:0.37251\tllh:0.37167\treg:0.00084\n",
      "Correct sequences ratio: 0.75122\n",
      "C-s count mean abs error: 1.88419\n",
      "a a a b b c c c c c | a | a a a a a a a b b b b b b b c c c c c c c c c c c c c c | a a a a a a a b\n",
      "a a a a a b b b b b b b c c c c c c c c c c c c a a a a a a a a b b b b b b b c c c c c c c c c c c\n",
      "| a a a a a a b b c b b b b b b b b b b b c c b c c c c c c c c c c c c c c | a a a b b b b c c c c\n",
      "iter:900\tfull:0.37239\tllh:0.37153\treg:0.00086\n",
      "Correct sequences ratio: 0.76047\n",
      "C-s count mean abs error: 1.63364\n",
      "a a b b b b b b b b c c c c c c c c c | a a a a a b b b c c c c c c c | a a a b c | a a b b b b b b\n",
      "a b b b b c c c c c c c | a a a a b b c c | c c c c | a a a a a a a a b b b b c c c c c c c c c c |\n",
      "| a a a c c | | | a a c | | a a a a a b c c c c | | a a a b b b b b b c c c c c c | a a a a a a b b\n",
      "iter:1000\tfull:0.34506\tllh:0.34418\treg:0.00088\n",
      "Correct sequences ratio: 0.79151\n",
      "C-s count mean abs error: 1.43780\n",
      "a a b b b b b b c c b b b c c c c c c c c c a a a a a b b c c c c c c c c c | a a a a a a a a a b c\n",
      "a a a a a b b b b c c c c c c c c c c | | a a a b b b b b b c c c c c c c c c | a a a a a a a a b b\n",
      "a a a a a a b b b b b c c c c c c c c c c | | a a b c c c c | a a a a b b b b b b c c c c c c c c c\n",
      "iter:1100\tfull:0.33705\tllh:0.33615\treg:0.00090\n",
      "Correct sequences ratio: 0.80829\n",
      "C-s count mean abs error: 1.29976\n",
      "b b b b b b b b c c c c c c c c | | a a a a a a b b b b b c c c c c c c | a a a a b b b c c c c c c\n",
      "a a a a a a a a c c c c c c c c c c | a a a a a b b b b b c c c c c c c c | a a a a b b b b b b b b\n",
      "a a a a a a b b b b c c c c c c c c c | a a a a a a a a a b b b c c c c c c c c c c c c | a a a a a\n",
      "iter:1200\tfull:0.32928\tllh:0.32836\treg:0.00092\n",
      "Correct sequences ratio: 0.81774\n",
      "C-s count mean abs error: 1.16297\n",
      "| | | a a a a a a b b b b b c c c c c c c c c c | a a a a a a b b b b b b c c c c c c c c c c | a a\n",
      "a a a a a a b b b b b b b b c c c c c c c c c c c c c c | a a a a a a b b b b b b b b b c c c c c c\n",
      "| a a a a a a a b b b b b c c c c c c c c c c | a a a a a a a b b b b b b c c c c c c c c c c c c c\n",
      "iter:1300\tfull:0.31686\tllh:0.31592\treg:0.00094\n",
      "Correct sequences ratio: 0.84897\n",
      "C-s count mean abs error: 1.02476\n",
      "| a a a a a a b c c c c c c c c | a a a a a a a b b b b b b b c c c c c c c c c c c c c c | | a a b\n",
      "a a b b b b b c c c c c c c c | | a a a b b b b b b b c c c c c c c c c c | | a a a | a a a b b b b\n",
      "a a a a a a a b b b b b b b b c c c c c c c c c c c c c c c c | | a a a a a b b c c c c c c | a a b\n",
      "iter:1400\tfull:0.32037\tllh:0.31942\treg:0.00096\n",
      "Correct sequences ratio: 0.84334\n",
      "C-s count mean abs error: 0.90972\n",
      "| a a a a a a a a a b b b b c c c c c c c c c c c c | a a b b b c c c c c c c | a a a a a b c c c c\n",
      "a a a a a a a a a b b b b c c c c c c c c c c c c c | a a a a a b b b b c c c c c c c | a a a a a a\n",
      "a a a a b b b b b c c c c c c c c c | a a a a a a b c c c c c c c | a a a a b b b b b c c c c c c c\n",
      "iter:1500\tfull:0.31796\tllh:0.31699\treg:0.00098\n",
      "Correct sequences ratio: 0.85771\n",
      "C-s count mean abs error: 0.75000\n",
      "a a a a a b b b b c c c c c c c c c c | a a a a a a b b b c c c c c c c c c | a a a b b c c c c | a\n",
      "a a a a a a b b b b b c c c c c c c c c c c c | a a a a a a b b c c c c c c c c | a a a a a a a b b\n",
      "| | a a a a a b a b b b c c c c c c c c c a a a a b b b b b b b b c c c c c c c c c c | a a a a a a\n",
      "iter:1600\tfull:0.29895\tllh:0.29796\treg:0.00100\n",
      "Correct sequences ratio: 0.87024\n",
      "C-s count mean abs error: 0.69775\n",
      "a b b b b b b b c c c c c c c c c | a a a a a b b b b c c c c c c c | a a a a b b b b c c c c c c c\n",
      "a a a a a a a a a b b b b b c c c c c c c c c c c c c c c | a a a a a a a a a b b b b b b c c c c c\n",
      "a a b b b b b c c c c c c c c | a a a a a a b b b b b c c c c c c c c c c | a a a a a b c c c c c c\n",
      "iter:1700\tfull:0.29498\tllh:0.29396\treg:0.00102\n",
      "Correct sequences ratio: 0.89027\n",
      "C-s count mean abs error: 0.60896\n",
      "| a a a a a a b b b b b b b b c c c c c c c c c c c c c c | a a a a a a a b b c c c c c c c c | a a\n",
      "a a a a a a a a b b b b c c c c c c c c c c c | a a a a a b b b b b b c c c c c c c c c c c c c | a\n",
      "a a a b b b b c c c c c c c | a a a a a a c c c c c c | | a a a a a a b b b b b c c c c c c c c c c\n",
      "iter:1800\tfull:0.28787\tllh:0.28683\treg:0.00104\n",
      "Correct sequences ratio: 0.88979\n",
      "C-s count mean abs error: 0.58920\n",
      "| a a a a a a a a b b b c c c c c c c c c c c | a a a a a a a a a b b b b b b b c c c c c c c c c c\n",
      "a a a a a a b b b b b b c c c c c c c c c c c c | a a a a b b b b c c c c c c c c | a a a a a a b b\n",
      "a a a a a b b b b b b b c c c c c c c c c c c | a a a a a a a a b b b b b b c c c c c c c c c c c c\n",
      "iter:1900\tfull:0.28745\tllh:0.28640\treg:0.00105\n",
      "Correct sequences ratio: 0.89888\n",
      "C-s count mean abs error: 0.50114\n",
      "a b c c | | a a a a b a a a b b c c c c c c c c c c | a a a a a a a b b b b c c c c c c c c c c c |\n",
      "a a a a a a a a a a b b b b b b c c c c c c c c c c c c c c c c | | a a a a a b b b b c c c c c c c\n",
      "a a a a a a a a a b b b b b b c c c c c c c c c c c c c c c | a a a a a a b b c c c c c c a a a b b\n",
      "iter:2000\tfull:0.28881\tllh:0.28774\treg:0.00107\n",
      "Correct sequences ratio: 0.90311\n",
      "C-s count mean abs error: 0.43413\n",
      "a a a a a a a a a b c c c c c c c c c c | a a a a a a a a a a b b b b b c c c c c c c c c c c c c c\n",
      "| a a a a a a a b b b b b b b c c c c c c c c c c c c c c | a a a a b b b c c c c c c c | a a a a a\n",
      "| a a a a a a b b b b b b b b b c c c c c c c c c c c c c c | a a a a a a a b b b b b b b b b b b c\n",
      "iter:2100\tfull:0.27489\tllh:0.27380\treg:0.00109\n",
      "Correct sequences ratio: 0.91234\n",
      "C-s count mean abs error: 0.35837\n",
      "a b b b b b c c c c c c | a a a a a a a b b b b b c c c c c c c c c c c | c c | a a a a a b b b b c\n",
      "| a a a a b b c c c c c c c | a a a a a b b b c c c c c c c | a a a a a a a a a b b b b c c c c c c\n",
      "| a b b b b b c c c c c c | a a a a b b b b b b c c c c c c c c c | a a a a a b b b b b b b b c c c\n",
      "iter:2200\tfull:0.28200\tllh:0.28089\treg:0.00111\n",
      "Correct sequences ratio: 0.92665\n",
      "C-s count mean abs error: 0.34303\n",
      "| a a a a a b b b c c c c c c c c c | a a a a a a a a b b b b c c c c c c c c c c c | a a a a a b b\n",
      "| a a a b b b b b b c c c c c c c c | a b b c c c | a a a a b b b c c c c c c c | a b b b b b b c c\n",
      "| a a a a a a b b b c c c c c c c c c | a a b b b b b b b b b c c c c c c c c c c | a a a a a b b b\n",
      "iter:2300\tfull:0.26470\tllh:0.26357\treg:0.00113\n",
      "Correct sequences ratio: 0.92717\n",
      "C-s count mean abs error: 0.31798\n",
      "| a a a a a a a b b c c c c c c c c c | a a a b b b b b b b b c c c c c c c c c c c | a a a a a a b\n",
      "| a a a a a a a a b b b c c c c c c c c c c c | a a a a a a a a a a a a b c c c c c c c c c c c c c\n",
      "| a a a a b b b b b c c c c c c c c c | a a a a a a a b b b c c c c c c c c c c | a a a a a a a a a\n",
      "iter:2400\tfull:0.27150\tllh:0.27036\treg:0.00115\n",
      "Correct sequences ratio: 0.95388\n",
      "C-s count mean abs error: 0.30373\n",
      "a a a a a a b b b b b c c c c c c c c c c c | a b b b b c c c c c | a a b b b b b b b b b c c c c c\n",
      "c | | a a a a a b b b b b c c c c c c c c c c | a a a a a a a b b c c c c c c c c | a a a a b b b b\n",
      "| a a b c c c c | a a a a a a a a b b b b b b b c c c c c c c c c c c c c c | a a a b b b b c c c c\n",
      "iter:2500\tfull:0.28001\tllh:0.27885\treg:0.00116\n",
      "Correct sequences ratio: 0.95205\n",
      "C-s count mean abs error: 0.26076\n",
      "| | a a a a a b c c c c c c | a b b b b c c c c | a a a a a b b b b b b c c c c c c c c c c c | a a\n",
      "a a a a a b b b c c c c c c c c c | a a a a a a a a b b b c c c c c c c c c c c | a a a a b b b b b\n",
      "a a a a a a a a b b b b b b c c c c c c c c c c c c c c c | a a a a a a a a b b c c c c c c c c c c\n",
      "iter:2600\tfull:0.26287\tllh:0.26169\treg:0.00118\n",
      "Correct sequences ratio: 0.94433\n",
      "C-s count mean abs error: 0.24672\n",
      "a b b c c c | a b b b b b c c c c c c | a a a a a b b b b b b c c c c c c c c c c c | a a b b b c c\n",
      "| a a a a a a a b b b c c c c c c c c c c | a b b b b b b b c c c c c c c c | a b b b b b b c c c c\n",
      "| a a a a b b b b b b b b c c c c c c c c c c c c | a a a a a a a a a b b c c c c c c c c c c c | a\n",
      "iter:2700\tfull:0.25490\tllh:0.25370\treg:0.00119\n",
      "Correct sequences ratio: 0.95506\n",
      "C-s count mean abs error: 0.20065\n",
      "| a a a b b c c c c c | a a a a a a a c c c c c c c c | a a a a a b b b b b b b c c c c c c c c c c\n",
      "| a a a a a a b b b b b c c c c c c c c c c | a a a b c c c c | a a b c c c c | a a a a a a a a a a\n",
      "| | a a a a a a a a b c c c c c c c c c | a a a b b b b b b b b b b b c c c c c c c c c c c c c c |\n",
      "iter:2800\tfull:0.25837\tllh:0.25716\treg:0.00121\n",
      "Correct sequences ratio: 0.95643\n",
      "C-s count mean abs error: 0.20065\n",
      "a a a b b c c c c c | a a a a b b b b b b b b b c c c c c c c c c c c c | a a a a a a b b b b b b c\n",
      "| | a a a a a a a a a a a b b b b b b b b c c c c c c c c c c c c c c c c c c c | a a a a a b c c c\n",
      "a b b b b c c c c c | a a a b b c c c c c | a a a b b b b b b b b b c c c c c c c c c c c c | a a a\n",
      "iter:2900\tfull:0.24691\tllh:0.24568\treg:0.00123\n",
      "Correct sequences ratio: 0.96071\n",
      "C-s count mean abs error: 0.17666\n",
      "| a a a a b b b b b b c c c c c c c c c c | a a b c c c | | a a a a a a a a a a b b b c c c c c c c\n",
      "| a a a a a a a a a b b b b b b c c c c c c c c c c c c c c c | a a a a a a a a b b b c c c c c c c\n",
      "| a a b b b b c c c c c c | a a a a a b b b b b b b c c c c c c c c c c c c | a a a a a a b b b b b\n",
      "iter:3000\tfull:0.24248\tllh:0.24124\treg:0.00124\n",
      "Correct sequences ratio: 0.96319\n",
      "C-s count mean abs error: 0.15877\n",
      "| a a a a a a b b c c c c c c c c | a a a a a a b c c c c c c c | a a a a a a a a b b b b b b c c c\n",
      "| a a a a a a b b b c c c c c c c c c | a a a a a a a a a a a a b c c c c c c c c c c c c c | a b b\n",
      "| a a a a a a a b b b b b b c c c c c c c c c c c c c | a a a a a b b b b c c c c c c c c c | a b b\n",
      "iter:3100\tfull:0.24585\tllh:0.24460\treg:0.00125\n",
      "Correct sequences ratio: 0.96399\n",
      "C-s count mean abs error: 0.13698\n",
      "| a a a a b b b b c c c c c c c c | a a a a a a a a b b b b b b b b b b c c c c c c c c c c c c c c\n",
      "| a a a a a b b b c c c c c c c c | a a a a a b b c c c c c c c | a a a a a a a a b b b b b c c c c\n",
      "| a a a a a b b c c c c c c c | a a b b b b b b c c c c c c c c c | a a a a a a a a a a b b b c c c\n",
      "iter:3200\tfull:0.25275\tllh:0.25148\treg:0.00127\n",
      "Correct sequences ratio: 0.96365\n",
      "C-s count mean abs error: 0.12221\n",
      "a a a a a b b b b b b c c c c c c c c c c c | a a b b b b b b b b c c c c c c c c c c | a a a a a a\n",
      "| a a a a a a a a b b b b b b c c c c c c c c c c c c c c | a a a a a a a b b b b c c c c c c c c c\n",
      "a b b c c c | a a b b b b b b c c c c c c c c | a a a a a b b b b b c c c c c c c c c c | a a a a a\n",
      "iter:3300\tfull:0.25576\tllh:0.25448\treg:0.00128\n",
      "Correct sequences ratio: 0.97895\n",
      "C-s count mean abs error: 0.10645\n",
      "| a a a a a a a a b b b b b b c c c c c c c c c c c c c c | a a a a a a a b b b b c c c c c c c c c\n",
      "a a a b c c c c | a a a a a a b b c c c c c c c c | a a a a b b b b b b b c c c c c c c c c c c | a\n",
      "| | a a a a a a a a b b b b b b b b c c c c c c c c c c c c c c c c | a b b b b b b c c c c c c c |\n",
      "iter:3400\tfull:0.25367\tllh:0.25238\treg:0.00130\n",
      "Correct sequences ratio: 0.97754\n",
      "C-s count mean abs error: 0.09737\n",
      "| a a a a a a a b b b b b b b b b b b c c c c c c c c c c c c c c c c c c | a a a a b b b b b c c c\n",
      "a a a a a b b b b b c c c c c c c c c c | a a a a a a a b b b b b c c c c c c c c c c c c | a a a a\n",
      "| a a a a a a a a a b b b b b c c c c c c c c c c c c c c | a a a a a a b b c c c c c c c c | a a a\n",
      "iter:3500\tfull:0.25402\tllh:0.25271\treg:0.00131\n",
      "Correct sequences ratio: 0.97780\n",
      "C-s count mean abs error: 0.10876\n",
      "| a a a a a a a a a a b b b b b b b b c c c c c c c c c c c c c c c c c c | a a a a a a b b c c c c\n",
      "| a a a a a a a a a b b b b b c c c c c c c c c c c c c c | a a b b b b b c c c c c c c | a a a a a\n",
      "| a b c c | a a a a a a a b b b b b b b b c c c c c c c c c c c c c c c | a a a a a a b b b c c c c\n",
      "iter:3600\tfull:0.24165\tllh:0.24033\treg:0.00132\n",
      "Correct sequences ratio: 0.97600\n",
      "C-s count mean abs error: 0.07910\n",
      "| | a a a a a a a b b c c c c c c c c c | a a b b b b b b b c c c c c c c c c | a a a a b b b b b b\n",
      "| a a a a a a a b b b b b b b b b c c c c c c c c c c c c c c c c | a a a a a a b b b b c c c c c c\n",
      "a a a a b b b b b b b b b b c c c c c c c c c c c c c c | a a a a a a a a b b b b b b b c c c c c c\n",
      "iter:3700\tfull:0.24184\tllh:0.24051\treg:0.00133\n",
      "Correct sequences ratio: 0.98462\n",
      "C-s count mean abs error: 0.08998\n",
      "| a a b b b b c c c c c c | a a a a a a a b b b b c c c c c c c c c c c | a a a a b b b c c c c c c\n",
      "| a a b b b b c c c c c c | a a a a a a a a a a b b b b b b c c c c c c c c c c c c c c c c | a a b\n",
      "| a a a a a a a a b b b b b b b b b b c c c c c c c c c c c c c c c c c c | a a a a a a a b b b b c\n",
      "iter:3800\tfull:0.23620\tllh:0.23486\treg:0.00134\n",
      "Correct sequences ratio: 0.98566\n",
      "C-s count mean abs error: 0.08459\n",
      "| a a b b b c c c c c | a b b b b c c c c c | a a b b b b c c c c c c | a a a a a a a b b b b b b c\n",
      "| a a a a a a a a a b b c c c c c c c c c c c | a b b b b c c c c | a a b b b b b b b c c c c c c c\n",
      "| | a a a a a a a b b b b b b c c c c c c c c c c c c c | a a b b b b b b b c c c c c c c c c | a a\n",
      "iter:3900\tfull:0.23592\tllh:0.23457\treg:0.00135\n",
      "Correct sequences ratio: 0.98016\n",
      "C-s count mean abs error: 0.08098\n",
      "| a a a a a a a b b b c c c c c c c c c c | a a b b b b b b b b c c c c c c c c c c | a b b b b b c\n",
      "| a a a a a a a a a a b b b b b b c c c c c c c c c c c c c c c c | a a a a b b b c c c c c c c | a\n",
      "| a a a a a a a a b b b b b b b b c c c c c c c c c c c c c c c c | a a a a a b b b b b b c c c c c\n",
      "iter:4000\tfull:0.24218\tllh:0.24082\treg:0.00136\n",
      "Correct sequences ratio: 0.98945\n",
      "C-s count mean abs error: 0.06983\n",
      "| a a a a a b b b b b b b c c c c c c c c c c c c | a a a b b b c c c c c c | a a a a a a a a b b b\n",
      "| a a a b b b b b b b c c c c c c c c c c | a a b b b b b b c c c c c c c c | a a a a a a a b c c c\n",
      "| a a b b b b b b b b b c c c c c c c c c c c | a a a a a a a a a a b b b c c c c c c c c c c c c c\n",
      "iter:4100\tfull:0.23584\tllh:0.23447\treg:0.00137\n",
      "Correct sequences ratio: 0.98112\n",
      "C-s count mean abs error: 0.06841\n",
      "| a a a a a a a a b b b b b b c c c c c c c c c c c c c c | a a a a a a b b b b b b c c c c c c c c\n",
      "a a a a a a b b c c c c c c c c | a a a a a a b b b b b b c c c c c c c c c c c c | a a a a a a a b\n",
      "| a a a a a b b b c c c c c c c c | a a a a a a a a a a b c c c c c c c c c c c | a a a a a a a a a\n",
      "iter:4200\tfull:0.23984\tllh:0.23846\treg:0.00138\n",
      "Correct sequences ratio: 0.98287\n",
      "C-s count mean abs error: 0.07181\n",
      "a a a a a a a b c c c c c c c c | a a a a a a a b b b b b b c c c c c c c c c c c c c | a a a a b b\n",
      "| a a a a b b b c c c c c c c | a a a a a a b b b b b b b b c c c c c c c c c c c c c c | a a b c c\n",
      "| a a a a a a b b b b b b c c c c c c c c c c c c | a a a a a b b b b b b b b c c c c c c c c c c c\n",
      "iter:4300\tfull:0.22443\tllh:0.22304\treg:0.00139\n",
      "Correct sequences ratio: 0.98687\n",
      "C-s count mean abs error: 0.05961\n",
      "| a a a a a b b b b b b b b b c c c c c c c c c c c c c c | a a a a b b b b b b b c c c c c c c c c\n",
      "| a a a a a a a a a a b b b c c c c c c c c c c c c c | a a a a a a a b b b b b b b b b c c c c c c\n",
      "| a a a b b b b b b b c c c c c c c c c c | a a a a a a b b b b b b b c c c c c c c c c c c c c | a\n",
      "iter:4400\tfull:0.23611\tllh:0.23472\treg:0.00140\n",
      "Correct sequences ratio: 0.98325\n",
      "C-s count mean abs error: 0.04899\n",
      "| a a a a a a b b b b b b b c c c c c c c c c c c c c | a a a a a a b b b b c c c c c c c c c c | a\n",
      "a a a a a b b b b b b b b c c c c c c c c c c c c c | a a b b b b b b b b c c c c c c c c c c | a a\n",
      "| | a b c c | a b b b b b b b c c c c c c c c | a a b b b b c c c c c c | a a a a a a b b b b b b c\n",
      "iter:4500\tfull:0.23632\tllh:0.23492\treg:0.00140\n",
      "Correct sequences ratio: 0.98642\n",
      "C-s count mean abs error: 0.05929\n",
      "| a b b b b b c c c c c c a a a a b b b b b b b b c c c c c c c c c c c c | a a a a a a a b b c c c\n",
      "| a a a a a a b b b b b b b b b b b c c c c c c c c c c c c c c c c c | a a a a a a b b b c c c c c\n",
      "| a a a a a a b c c c c c c c | a a a a b b b b b b b b b c c c c c c c c c c c c c | a a b b b b c\n",
      "iter:4600\tfull:0.23629\tllh:0.23488\treg:0.00141\n",
      "Correct sequences ratio: 0.98528\n",
      "C-s count mean abs error: 0.04803\n",
      "| a a b b b c c c c c | a a a a a a a a b b b b b b b b c c c c c c c c c c c c c c c c | a a a b b\n",
      "| a a a a a a a b b b b b b b b c c c c c c c c c c c c c c c | a a a a a a a b b b b b b b b c c c\n",
      "| a a a a a a a b b b b b b b b b b b c c c c c c c c c c c c c c c c c c | a a a a b b b b b b b b\n",
      "iter:4700\tfull:0.23422\tllh:0.23280\treg:0.00142\n",
      "Correct sequences ratio: 0.98688\n",
      "C-s count mean abs error: 0.04574\n",
      "| a a a b b b b b b b b b b b c c c c c c c c c c c c c c | a a a a b a b b b b b b b b b b c c c c\n",
      "| a a a a a a a b b b b b b b b b c c c c c c c c c c c c c c c | a a a a b b b b b c c c c c c c c\n",
      "| a a a a a a a b b b b b b b c c c c c c c c c c c c c c | a a a a a a a b b b b b b b b c c c c c\n",
      "iter:4800\tfull:0.23460\tllh:0.23318\treg:0.00142\n",
      "Correct sequences ratio: 0.99000\n",
      "C-s count mean abs error: 0.04147\n",
      "| a a a a a a a a b b b b b b b b c c c c c c c c c c c c c c c c | a a a a a a a a b b b b b b b b\n",
      "| a a a a a a a a b b b b b c c c c c c c c c c c c c | a a a a a a a a b b b b b b b c c c c c c c\n",
      "| a a a a a a a a a a b b b b b b c c c c c c c c c c c c c c c c | a a a a b c c c c c | a a a a a\n",
      "iter:4900\tfull:0.23520\tllh:0.23377\treg:0.00143\n",
      "Correct sequences ratio: 0.99223\n",
      "C-s count mean abs error: 0.04021\n",
      "| a a a a a a b b b b b b b c c c c c c c c c c c c c | a a a a a a a a b b b b c c c c c c c c c c\n",
      "| | a a a b b b b c c c c c c c | a a a a a a a a a b b b b b b c c c c c c c c c c c c c c c | a a\n",
      "| a a a a a b b b b b b c c c c c c c c c c c | a a a a a a a b b b b b c c c c c c c c c c c c | a\n"
     ]
    }
   ],
   "source": [
    "\n",
    "for i in range(N_EPOCHS):\n",
    "    \n",
    "    #generate reference\n",
    "    new_batch = generate_sequence(BATCH_SIZE,SEQ_LENGTH)\n",
    "    #feed the monster\n",
    "    train_fun(new_batch)\n",
    "    \n",
    "    #Display metrics once in a while\n",
    "    if i % REPORT_RATE==0:\n",
    "        \n",
    "        loss_components = evaluation_fun(new_batch)\n",
    "        print \"iter:%i\\tfull:%.5f\\tllh:%.5f\\treg:%.5f\"%tuple([i]+map(float,loss_components))        \n",
    "        \n",
    "        metrics['crossentropy'][i]=float(loss_components[1])\n",
    "        \n",
    "\n",
    "        examples = get_sequences(1000)\n",
    "        \n",
    "        correctness_ratio,c_count_mae = get_metrics(examples,alphabet)\n",
    "        \n",
    "\n",
    "        metrics[\"correctness_rates\"][i] = correctness_ratio\n",
    "        metrics[\"c_count_errors\"][i]=c_count_mae\n",
    "        \n",
    "        print \"Correct sequences ratio: %.5f\"%(correctness_ratio)\n",
    "        print \"C-s count mean abs error: %.5f\"%(c_count_mae)\n",
    "        \n",
    "        for tid_line in examples[:3]:\n",
    "            print ' '.join(map(alphabet.__getitem__,tid_line))\n",
    "\n",
    "    "
   ]
  },
  {
   "cell_type": "code",
   "execution_count": 24,
   "metadata": {
    "collapsed": false,
    "scrolled": true
   },
   "outputs": [
    {
     "data": {
      "image/png": "[encoded data removed]",
      "text/plain": [
       "<matplotlib.figure.Figure at 0x7fab66085a10>"
      ]
     },
     "metadata": {},
     "output_type": "display_data"
    },
    {
     "data": {
      "image/png": "[encoded data removed]",
      "text/plain": [
       "<matplotlib.figure.Figure at 0x7fab5fd67c50>"
      ]
     },
     "metadata": {},
     "output_type": "display_data"
    },
    {
     "data": {
      "image/png": "[encoded data removed]",
      "text/plain": [
       "<matplotlib.figure.Figure at 0x7fab5fcec210>"
      ]
     },
     "metadata": {},
     "output_type": "display_data"
    }
   ],
   "source": [
    "for metric in metrics:\n",
    "    plt.figure(figsize=[14,8])\n",
    "    plt.plot(*zip(*sorted(metrics[metric].items(),key=lambda (k,v):k)),label=metric)\n",
    "    plt.legend(loc='best')\n",
    "    plt.ylabel(\"popugai\")\n",
    "    plt.xlabel(\"epoch\")\n",
    "    plt.grid()"
   ]
  }
 ],
 "metadata": {
  "anaconda-cloud": {},
  "kernelspec": {
   "display_name": "Python [conda env:py27]",
   "language": "python",
   "name": "conda-env-py27-py"
  },
  "language_info": {
   "codemirror_mode": {
    "name": "ipython",
    "version": 2
   },
   "file_extension": ".py",
   "mimetype": "text/x-python",
   "name": "python",
   "nbconvert_exporter": "python",
   "pygments_lexer": "ipython2",
   "version": "2.7.12"
  }
 },
 "nbformat": 4,
 "nbformat_minor": 0
}
